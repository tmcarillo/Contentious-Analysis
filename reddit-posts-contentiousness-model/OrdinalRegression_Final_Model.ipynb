{
 "cells": [
  {
   "cell_type": "markdown",
   "metadata": {},
   "source": [
    "# Part A: The Predictive Model: Ordinal Regression Model #"
   ]
  },
  {
   "cell_type": "markdown",
   "metadata": {
    "id": "jAyz9NtbWvZv"
   },
   "source": [
    "[Ordinal regression](https://en.wikipedia.org/wiki/Ordinal_regression) is a classification method for categories on an ordinal scale -- e.g. [1, 2, 3, 4, 5] or [G, PG, PG-13, R].  This notebook implements ordinal regression using the method of [Frank and Hal 2001](https://www.cs.waikato.ac.nz/~eibe/pubs/ordinal_tech_report.pdf), which transforms a k-multiclass classifier into k-1 binary classifiers (each of which predicts whether a data point is above a threshold in the ordinal scale -- e.g., whether a movie is \"higher\" than PG).  This method can be used with any binary classification method that outputs probabilities; here L2-regularizaed binary logistic regression is used.\n",
    "\n",
    "This notebook trains a model (on `train.txt`), optimizes L2 regularization strength on `dev.txt`, and evaluates performance on `test.txt`.  Reports test accuracy with 95% confidence intervals."
   ]
  },
  {
   "cell_type": "code",
   "execution_count": 1,
   "metadata": {
    "colab": {
     "base_uri": "https://localhost:8080/"
    },
    "id": "Ock-Uy4jC0t3",
    "outputId": "6167f19b-2414-49aa-be50-6fb2a841832d"
   },
   "outputs": [
    {
     "name": "stdout",
     "output_type": "stream",
     "text": [
      "Collecting afinn\n",
      "  Downloading afinn-0.1.tar.gz (52 kB)\n",
      "\u001b[2K     \u001b[90m━━━━━━━━━━━━━━━━━━━━━━━━━━━━━━━━━━━━━━━\u001b[0m \u001b[32m52.6/52.6 kB\u001b[0m \u001b[31m290.6 kB/s\u001b[0m eta \u001b[36m0:00:00\u001b[0ma \u001b[36m0:00:01\u001b[0m\n",
      "\u001b[?25h  Preparing metadata (setup.py) ... \u001b[?25ldone\n",
      "\u001b[?25hBuilding wheels for collected packages: afinn\n",
      "  Building wheel for afinn (setup.py) ... \u001b[?25ldone\n",
      "\u001b[?25h  Created wheel for afinn: filename=afinn-0.1-py3-none-any.whl size=53447 sha256=327a0e163fdf9f0b0ee3e3285441b90cb9fd1fdefef9384d67eaa15c91035384\n",
      "  Stored in directory: /home/jovyan/.cache/pip/wheels/79/91/ee/8374d9bc8c6c0896a2db75afdfd63d43653902407a0e76cd94\n",
      "Successfully built afinn\n",
      "Installing collected packages: afinn\n",
      "Successfully installed afinn-0.1\n",
      "Note: you may need to restart the kernel to use updated packages.\n"
     ]
    }
   ],
   "source": [
    "pip install afinn"
   ]
  },
  {
   "cell_type": "code",
   "execution_count": 2,
   "metadata": {
    "id": "TQTT9x-6d2JI"
   },
   "outputs": [
    {
     "name": "stderr",
     "output_type": "stream",
     "text": [
      "[nltk_data] Downloading package stopwords to /srv/conda/nltk_data...\n",
      "[nltk_data]   Package stopwords is already up-to-date!\n",
      "[nltk_data] Downloading package averaged_perceptron_tagger to\n",
      "[nltk_data]     /srv/conda/nltk_data...\n",
      "[nltk_data]   Package averaged_perceptron_tagger is already up-to-\n",
      "[nltk_data]       date!\n"
     ]
    }
   ],
   "source": [
    "from scipy import sparse\n",
    "from sklearn import linear_model\n",
    "from collections import Counter\n",
    "import numpy as np\n",
    "import operator\n",
    "import nltk\n",
    "import math\n",
    "from scipy.stats import norm\n",
    "import re\n",
    "from afinn import Afinn\n",
    "nltk.download('stopwords')\n",
    "from nltk.corpus import stopwords\n",
    "from nltk import pos_tag\n",
    "from collections import Counter\n",
    "nltk.download('averaged_perceptron_tagger')\n",
    "import string"
   ]
  },
  {
   "cell_type": "code",
   "execution_count": 3,
   "metadata": {
    "id": "e4KuVSCSqlUX"
   },
   "outputs": [
    {
     "name": "stdout",
     "output_type": "stream",
     "text": [
      "/srv/conda/lib/python3.9/runpy.py:127: RuntimeWarning: 'nltk.downloader' found in sys.modules after import of package 'nltk', but prior to execution of 'nltk.downloader'; this may result in unpredictable behaviour\n",
      "  warn(RuntimeWarning(msg))\n",
      "[nltk_data] Downloading package punkt to /srv/conda/nltk_data...\n",
      "[nltk_data]   Package punkt is already up-to-date!\n"
     ]
    }
   ],
   "source": [
    "!python -m nltk.downloader punkt"
   ]
  },
  {
   "cell_type": "code",
   "execution_count": 4,
   "metadata": {
    "id": "FISzHPs1WvZx"
   },
   "outputs": [],
   "source": [
    "def load_ordinal_data(filename, ordering):\n",
    "    X = []\n",
    "    Y = []\n",
    "    orig_Y=[]\n",
    "    for ordinal in ordering:\n",
    "        Y.append([])\n",
    "\n",
    "    with open(filename, encoding=\"utf-8\") as file:\n",
    "        for line in file:\n",
    "            cols = line.split(\"\\t\")\n",
    "            idd = cols[0]\n",
    "            label = cols[2].lstrip().rstrip()\n",
    "            text = cols[3]\n",
    "\n",
    "            X.append(text)\n",
    "\n",
    "            index=ordering.index(label)\n",
    "            for i in range(len(ordering)):\n",
    "                if index > i:\n",
    "                    Y[i].append(1)\n",
    "                else:\n",
    "                    Y[i].append(0)\n",
    "            orig_Y.append(label)\n",
    "\n",
    "    return X, Y, orig_Y"
   ]
  },
  {
   "cell_type": "code",
   "execution_count": 5,
   "metadata": {
    "id": "lc-dSRfoWvZx"
   },
   "outputs": [],
   "source": [
    "class OrdinalClassifier:\n",
    "\n",
    "    def __init__(self, ordinal_values, feature_method, trainX, trainY, devX, devY, testX, testY, orig_trainY, orig_devY, orig_testY):\n",
    "        self.ordinal_values=ordinal_values\n",
    "        self.feature_vocab = {}\n",
    "        self.feature_method = feature_method\n",
    "        self.min_feature_count=2\n",
    "        self.log_regs = [None]* (len(self.ordinal_values)-1)\n",
    "\n",
    "        self.trainY=trainY\n",
    "        self.devY=devY\n",
    "        self.testY=testY\n",
    "\n",
    "        self.orig_trainY=orig_trainY\n",
    "        self.orig_devY=orig_devY\n",
    "        self.orig_testY=orig_testY\n",
    "\n",
    "        self.trainX = self.process(trainX, training=True)\n",
    "        self.devX = self.process(devX, training=False)\n",
    "        self.testX = self.process(testX, training=False)\n",
    "\n",
    "    # Featurize entire dataset\n",
    "    def featurize(self, data):\n",
    "        featurized_data = []\n",
    "        for text in data:\n",
    "            feats = self.feature_method(text)\n",
    "            featurized_data.append(feats)\n",
    "        return featurized_data\n",
    "\n",
    "    # Read dataset and returned featurized representation as sparse matrix + label array\n",
    "    def process(self, X_data, training = False):\n",
    "\n",
    "        data = self.featurize(X_data)\n",
    "\n",
    "        if training:\n",
    "            fid = 0\n",
    "            feature_doc_count = Counter()\n",
    "            for feats in data:\n",
    "                for feat in feats:\n",
    "                    feature_doc_count[feat]+= 1\n",
    "\n",
    "            for feat in feature_doc_count:\n",
    "                if feature_doc_count[feat] >= self.min_feature_count:\n",
    "                    self.feature_vocab[feat] = fid\n",
    "                    fid += 1\n",
    "\n",
    "        F = len(self.feature_vocab)\n",
    "        D = len(data)\n",
    "        X = sparse.dok_matrix((D, F))\n",
    "        for idx, feats in enumerate(data):\n",
    "            for feat in feats:\n",
    "                if feat in self.feature_vocab:\n",
    "                    X[idx, self.feature_vocab[feat]] = feats[feat]\n",
    "\n",
    "        return X\n",
    "\n",
    "\n",
    "    def train(self):\n",
    "        (D,F) = self.trainX.shape\n",
    "\n",
    "\n",
    "        for idx, ordinal_value in enumerate(self.ordinal_values[:-1]):\n",
    "            best_dev_accuracy=0\n",
    "            best_model=None\n",
    "            for C in [0.1, 1, 10, 100]:\n",
    "\n",
    "                log_reg = linear_model.LogisticRegression(C = C, max_iter=1000)\n",
    "                log_reg.fit(self.trainX, self.trainY[idx])\n",
    "                development_accuracy = log_reg.score(self.devX, self.devY[idx])\n",
    "                if development_accuracy > best_dev_accuracy:\n",
    "                    best_dev_accuracy=development_accuracy\n",
    "                    best_model=log_reg\n",
    "\n",
    "\n",
    "            self.log_regs[idx]=best_model\n",
    "\n",
    "    def test(self):\n",
    "        pred_list = [] #added an empty list to see the predictions\n",
    "        cor=tot=0\n",
    "        counts=Counter()\n",
    "        preds=[None]*(len(self.ordinal_values)-1)\n",
    "        for idx, ordinal_value in enumerate(self.ordinal_values[:-1]):\n",
    "            preds[idx]=self.log_regs[idx].predict_proba(self.testX)[:,1]\n",
    "\n",
    "        preds=np.array(preds) \n",
    "\n",
    "        for data_point in range(len(preds[0])):\n",
    "\n",
    "\n",
    "            ordinal_preds=np.zeros(len(self.ordinal_values))\n",
    "            for ordinal in range(len(self.ordinal_values)-1):\n",
    "                if ordinal == 0:\n",
    "                    ordinal_preds[ordinal]=1-preds[ordinal][data_point]\n",
    "                else:\n",
    "                    ordinal_preds[ordinal]=preds[ordinal-1][data_point]-preds[ordinal][data_point]\n",
    "\n",
    "            ordinal_preds[len(self.ordinal_values)-1]=preds[len(preds)-1][data_point]\n",
    "\n",
    "            prediction=np.argmax(ordinal_preds)\n",
    "            pred_list.append(prediction+1)\n",
    "            counts[prediction]+=1\n",
    "            if prediction == self.ordinal_values.index(self.orig_testY[data_point]):\n",
    "                cor+=1\n",
    "            tot+=1\n",
    "\n",
    "        return cor/tot, pred_list #return the additional prediction list"
   ]
  },
  {
   "cell_type": "code",
   "execution_count": 6,
   "metadata": {
    "id": "LReg2xQBWvZy"
   },
   "outputs": [],
   "source": [
    "def run(trainingFile, devFile, testFile, ordinal_values):\n",
    "\n",
    "\n",
    "    trainX, trainY, orig_trainY=load_ordinal_data(trainingFile, ordinal_values)\n",
    "    devX, devY, orig_devY=load_ordinal_data(devFile, ordinal_values)\n",
    "    testX, testY, orig_testY=load_ordinal_data(testFile, ordinal_values)\n",
    "\n",
    "    simple_classifier = OrdinalClassifier(ordinal_values, binary_bow_featurize, trainX, trainY, devX, devY, testX, testY, orig_trainY, orig_devY, orig_testY)\n",
    "    simple_classifier.train()\n",
    "    accuracy=simple_classifier.test()\n",
    "\n",
    "    lower, upper=confidence_intervals(accuracy, len(testY[0]), .95)\n",
    "    print(\"Test accuracy for best dev model: %.3f, 95%% CIs: [%.3f %.3f]\\n\" % (accuracy, lower, upper))\n",
    "\n",
    "    mapping = {0: \"Low\", 1: \"Medium\", 2: \"High\"}"
   ]
  },
  {
   "cell_type": "code",
   "execution_count": 7,
   "metadata": {
    "id": "1BKHZ7wcWvZx"
   },
   "outputs": [],
   "source": [
    "def confidence_intervals(accuracy, n, significance_level):\n",
    "    critical_value=(1-significance_level)/2\n",
    "    z_alpha=-1*norm.ppf(critical_value)\n",
    "    se=math.sqrt((accuracy*(1-accuracy))/n)\n",
    "    return accuracy-(se*z_alpha), accuracy+(se*z_alpha)"
   ]
  },
  {
   "cell_type": "code",
   "execution_count": 8,
   "metadata": {
    "id": "5ltHEwKUWvZx"
   },
   "outputs": [],
   "source": [
    "def binary_bow_featurize(text):\n",
    "    feats = {}\n",
    "    words = nltk.word_tokenize(text)\n",
    "\n",
    "    for word in words:\n",
    "        word=word.lower()\n",
    "        feats[word]=1\n",
    "\n",
    "    return feats"
   ]
  },
  {
   "cell_type": "markdown",
   "metadata": {
    "id": "AjhepDHuqfcm"
   },
   "source": [
    "## These 5 additional features increased our accuracy to 0.540."
   ]
  },
  {
   "cell_type": "code",
   "execution_count": 9,
   "metadata": {
    "id": "w1yQD872y-Zu"
   },
   "outputs": [],
   "source": [
    "# a feature to detect if \"swear/cuss\" words are present in the text\n",
    "def swear_featurize(text):\n",
    "    feats = {}\n",
    "    words = nltk.word_tokenize(text.lower())\n",
    "\n",
    "    swear_words = [\n",
    "        'fuck', 'shit', 'bullshit', 'bitch', 'ass', 'cunt', 'retarded',\n",
    "        'retard', 'bastard', 'damn', 'crap', 'piss', 'douche', 'idiot'\n",
    "    ]\n",
    "\n",
    "    swear_count = sum(1 for word in words if word in swear_words)\n",
    "    total_words = len(words)\n",
    "\n",
    "    if total_words > 0:\n",
    "        swear_ratio = swear_count / total_words\n",
    "    else:\n",
    "        swear_ratio = 0.0\n",
    "\n",
    "    feats['swear_ratio'] = swear_ratio\n",
    "    return feats"
   ]
  },
  {
   "cell_type": "code",
   "execution_count": 10,
   "metadata": {
    "id": "pf7t2N9f0k_o"
   },
   "outputs": [],
   "source": [
    "# a feature to detect if opinionated language is present in the text\n",
    "def opinionated_featurize(text):\n",
    "    feats = {}\n",
    "    words = nltk.word_tokenize(text)\n",
    "\n",
    "    opinionated_count = 0\n",
    "    word_count = 0\n",
    "\n",
    "    opinionated_words = [\n",
    "    'always', 'never', 'must', 'should', 'definitely', 'certainly', 'undoubtedly',\n",
    "    'best', 'worst', 'great', 'terrible', 'amazing', 'awful', 'fantastic', 'horrible', 'excellent', 'superb',\n",
    "    'love', 'hate', 'adore', 'despise', 'like', 'dislike', 'loathe', 'enjoy',\n",
    "    'believe', 'think', 'feel', 'consider', 'suggest', 'argue', 'claim', 'assert',\n",
    "    'beautiful', 'ugly', 'smart', 'foolish', 'fair', 'unfair', 'right', 'wrong',\n",
    "    'angry', 'happy', 'sad', 'excited', 'thrilled', 'furious', 'delighted', 'devastated',\n",
    "    'prefer', 'rather', 'would rather', 'desire', 'wish', 'want',\n",
    "    'important', 'crucial', 'valuable', 'worthless', 'significant',\n",
    "    'very', 'extremely', 'incredibly', 'intensely', 'strongly',\n",
    "    'better', 'worse', 'superior', 'inferior', 'more', 'less',\n",
    "    'clearly', 'obviously', 'undoubtedly', 'without a doubt',\n",
    "    'probably', 'possibly', 'likely', 'unlikely', 'maybe', 'perhaps'\n",
    "    ]\n",
    "\n",
    "    for word in words:\n",
    "        if word in opinionated_words:\n",
    "            opinionated_count += 1\n",
    "        word_count += 1\n",
    "\n",
    "    feats['op_lng'] = opinionated_count / word_count\n",
    "    return feats"
   ]
  },
  {
   "cell_type": "code",
   "execution_count": 11,
   "metadata": {
    "id": "8o7oZVom1pT_"
   },
   "outputs": [],
   "source": [
    "def unigram_featurize(text):\n",
    "    feats = {}\n",
    "\n",
    "    text = text.lower()\n",
    "    text = re.sub(r'[^\\w\\s]', '', text)\n",
    "\n",
    "    # Tokenize text into unigrams\n",
    "    unigrams = list(nltk.ngrams(text.split(), 1))\n",
    "    unigram_strings = [' '.join(t) for t in unigrams]\n",
    "\n",
    "    # Create feature dictionary with unigram features\n",
    "    for unigram in unigram_strings:\n",
    "        feats[unigram] = 1\n",
    "\n",
    "    return feats"
   ]
  },
  {
   "cell_type": "code",
   "execution_count": 12,
   "metadata": {
    "id": "fnblYW5bJidO"
   },
   "outputs": [],
   "source": [
    "def afinn_featurize(text):\n",
    "    # Initialize Afinn sentiment analyzer\n",
    "    afinn = Afinn()\n",
    "\n",
    "    # Normalize text: convert to lowercase, remove punctuation\n",
    "    text = text.lower()\n",
    "    text = re.sub(r'[^\\w\\s]', '', text)\n",
    "\n",
    "    # Tokenize text into words\n",
    "    words = nltk.word_tokenize(text)\n",
    "\n",
    "    # Calculate sentiment score for each word\n",
    "    word_sentiments = [afinn.score(word) for word in words]\n",
    "\n",
    "    # Aggregate sentiment scores (e.g., sum, average)\n",
    "    if len(word_sentiments) > 0:\n",
    "        total_sentiment = sum(word_sentiments)\n",
    "        average_sentiment = total_sentiment / len(word_sentiments)\n",
    "    else:\n",
    "        average_sentiment = 0.0\n",
    "\n",
    "    # Create dictionary of Afinn sentiment features\n",
    "    feats = {\n",
    "        'afinn_average_sentiment': average_sentiment\n",
    "    }\n",
    "\n",
    "    return feats"
   ]
  },
  {
   "cell_type": "code",
   "execution_count": 13,
   "metadata": {
    "id": "2xYQ5bpUW6Oh"
   },
   "outputs": [],
   "source": [
    "#tokenizes the text and labels each word with one of the POS tags learned in class (i.e. NN, MD, VBZ) which provides more context for each word\n",
    "#we then tally up how much of each tag was used for the text and then add it as a feature\n",
    "#so if we had a string with 4 nouns, the code is basically doing feats['NN'] = 4.\n",
    "def pos_tagging_featurize(text):\n",
    "    feats = {}\n",
    "    words = nltk.word_tokenize(text)\n",
    "\n",
    "    # Perform POS tagging on the tokenized words\n",
    "    pos_tags = [tag for _, tag in pos_tag(words)]\n",
    "\n",
    "    # Count occurrences of each POS tag\n",
    "    pos_tag_counts = Counter(pos_tags)\n",
    "\n",
    "    # Add POS tag counts as features\n",
    "    for tag, count in pos_tag_counts.items():\n",
    "        feats[f\"pos_{tag}\"] = count\n",
    "\n",
    "    return feats"
   ]
  },
  {
   "cell_type": "markdown",
   "metadata": {
    "id": "WtfK6H6Kebp6"
   },
   "source": [
    "## The features below could not improve the accuracy past 0.540. (Additionally to the features above and did not improve it)"
   ]
  },
  {
   "cell_type": "code",
   "execution_count": 14,
   "metadata": {
    "id": "vCqN8p0YYvS5"
   },
   "outputs": [],
   "source": [
    "def count_negation_words(text):\n",
    "    feats ={}\n",
    "    negation_words = [\n",
    "        'not', 'no', 'never', 'none', 'nobody', 'nothing', 'nowhere', 'neither', 'nor',\n",
    "        'cannot', \"can't\", 'don', \"don't\", 'won', \"won't\", 'isn', \"isn't\", 'aren', \"aren't\",\n",
    "        'ain', \"ain't\", 'didn', \"didn't\", 'doesn', \"doesn't\", 'hadn', \"hadn't\", 'hasn', \"hasn't\",\n",
    "        'haven', \"haven't\", 'mightn', \"mightn't\", 'mustn', \"mustn't\", 'needn', \"needn't\",\n",
    "        'shouldn', \"shouldn't\", 'wasn', \"wasn't\", 'weren', \"weren't\", 'won', \"won't\", 'wouldn', \"wouldn't\"\n",
    "    ]\n",
    "\n",
    "    words = nltk.word_tokenize(text.lower())\n",
    "    negation_count = sum(1 for word in words if word in negation_words)\n",
    "    total_words = len(words)\n",
    "\n",
    "    if total_words > 0:\n",
    "        negation_ratio = negation_count / total_words\n",
    "    else:\n",
    "        negation_ratio = 0.0\n",
    "\n",
    "    feats['negation_ratio'] = negation_ratio\n",
    "    return feats"
   ]
  },
  {
   "cell_type": "code",
   "execution_count": 15,
   "metadata": {
    "id": "aRkldyuSa8JQ"
   },
   "outputs": [],
   "source": [
    "#How diverse the vocabulary in the reddit post is\n",
    "\n",
    "def lexical_diversity_featurize(text):\n",
    "    feats = {}\n",
    "    words = nltk.word_tokenize(text.lower())  # Tokenize and convert to lowercase\n",
    "\n",
    "    unique_words = set(words)\n",
    "    total_words = len(words)\n",
    "\n",
    "    if total_words > 0:\n",
    "        lexical_diversity = len(unique_words) / total_words\n",
    "    else:\n",
    "        lexical_diversity = 0.0\n",
    "\n",
    "    feats['lexical_diversity'] = lexical_diversity\n",
    "    return feats"
   ]
  },
  {
   "cell_type": "code",
   "execution_count": 16,
   "metadata": {
    "id": "TzpqhnGebTLH"
   },
   "outputs": [],
   "source": [
    "def capitalized_word_count_feature(text):\n",
    "    feats = {}\n",
    "    words = nltk.word_tokenize(text)\n",
    "    capitalized_count = sum(1 for word in words if word.isupper())\n",
    "    total_words = len(words)\n",
    "    if total_words > 0:\n",
    "        feats['capitalized_word_ratio'] = capitalized_count / total_words\n",
    "    else:\n",
    "        feats['capitalized_word_ratio'] = 0.0\n",
    "    return feats"
   ]
  },
  {
   "cell_type": "code",
   "execution_count": 17,
   "metadata": {
    "id": "3NlSz-k7cNSd"
   },
   "outputs": [],
   "source": [
    "#Name entity feature (it labels the person in the string and the location)\n",
    "\n",
    "def ner_feature(text):\n",
    "    feats = {}\n",
    "    words = nltk.word_tokenize(text)\n",
    "    pos_tags = nltk.pos_tag(words)\n",
    "    chunks = nltk.ne_chunk(pos_tags)\n",
    "\n",
    "    # Initialize a counter to keep track of named entity types\n",
    "    ner_counts = Counter()\n",
    "\n",
    "    # Traverse the tree and count named entities\n",
    "    for subtree in chunks:\n",
    "        if hasattr(subtree, 'label') and subtree.label():\n",
    "            # Extract the named entity and its type\n",
    "            ne_type = subtree.label()\n",
    "            ne_value = ' '.join(word for word, tag in subtree.leaves())\n",
    "            # Increment the count for this type of named entity\n",
    "            ner_counts[ne_type] += 1\n",
    "\n",
    "    # Normalize counts by total number of words\n",
    "    total_words = len(words)\n",
    "    if total_words > 0:\n",
    "        for ne_type, count in ner_counts.items():\n",
    "            feats[f'ner_{ne_type.lower()}_count'] = count / total_words\n",
    "\n",
    "    return feats"
   ]
  },
  {
   "cell_type": "markdown",
   "metadata": {
    "id": "pmhgVUNseiSH"
   },
   "source": [
    "## The feature below drops the accuracy below 0.540:"
   ]
  },
  {
   "cell_type": "code",
   "execution_count": 18,
   "metadata": {
    "id": "Dva4NYWdeBGw"
   },
   "outputs": [],
   "source": [
    "#counts the punctuation\n",
    "\n",
    "def stylistic_features(text):\n",
    "    feats = {}\n",
    "\n",
    "    # Count punctuation marks\n",
    "    punctuation_count = sum(1 for char in text if char in string.punctuation)\n",
    "    feats['punctuation_count'] = punctuation_count\n",
    "\n",
    "    # Count capital letters\n",
    "    capital_count = sum(1 for char in text if char.isupper())\n",
    "    feats['capital_count'] = capital_count\n",
    "\n",
    "    # Tokenize text into sentences\n",
    "    sentences = nltk.sent_tokenize(text)\n",
    "\n",
    "    # Calculate average sentence length\n",
    "    if sentences:\n",
    "        total_sentence_length = sum(len(nltk.word_tokenize(sentence)) for sentence in sentences)\n",
    "        average_sentence_length = total_sentence_length / len(sentences)\n",
    "    else:\n",
    "        average_sentence_length = 0\n",
    "\n",
    "    feats['average_sentence_length'] = average_sentence_length\n",
    "\n",
    "    return feats"
   ]
  },
  {
   "cell_type": "markdown",
   "metadata": {
    "id": "-o8_im8zmPRi"
   },
   "source": [
    "## Apply Features - The function that combines all of the features that increased our accuracy"
   ]
  },
  {
   "cell_type": "code",
   "execution_count": 29,
   "metadata": {
    "id": "cOfDnaQZmUaC"
   },
   "outputs": [],
   "source": [
    "def apply_features(redditPost):\n",
    "    all_feats={}\n",
    "    for feature in [binary_bow_featurize, swear_featurize, opinionated_featurize, unigram_featurize, afinn_featurize, pos_tagging_featurize]:\n",
    "        all_feats.update(feature(redditPost))\n",
    "    return all_feats"
   ]
  },
  {
   "cell_type": "markdown",
   "metadata": {},
   "source": [
    "## The Confidence Interval and the Result"
   ]
  },
  {
   "cell_type": "code",
   "execution_count": 30,
   "metadata": {},
   "outputs": [],
   "source": [
    "#This is our new run function that supports our new additional features\n",
    "def run2(trainingFile, devFile, testFile, ordinal_values):\n",
    "    trainX, trainY, orig_trainY=load_ordinal_data(trainingFile, ordinal_values)\n",
    "    devX, devY, orig_devY=load_ordinal_data(devFile, ordinal_values)\n",
    "    testX, testY, orig_testY=load_ordinal_data(testFile, ordinal_values)\n",
    "    \n",
    "    final_classifier = OrdinalClassifier(ordinal_values, apply_features, trainX, trainY, devX, devY, testX, testY, orig_trainY, orig_devY, orig_testY)\n",
    "    final_classifier.train()\n",
    "    accuracy, pred_labels = final_classifier.test()\n",
    "    \n",
    "    lower, upper = confidence_intervals(accuracy, len(testY[0]), .95)\n",
    "    \n",
    "    result = \"Test accuracy for best dev model: %.3f, 95%% CIs: [%.3f %.3f]\" % (accuracy, lower, upper)\n",
    "\n",
    "    return result, pred_labels, orig_testY"
   ]
  },
  {
   "cell_type": "code",
   "execution_count": 31,
   "metadata": {},
   "outputs": [
    {
     "name": "stdout",
     "output_type": "stream",
     "text": [
      "Test accuracy for best dev model: 0.540, 95% CIs: [0.442 0.638]\n"
     ]
    }
   ],
   "source": [
    "trainingFile = \"train_set.txt\"\n",
    "devFile = \"dev_set.txt\"\n",
    "testFile = \"test_set.txt\"\n",
    "\n",
    "# ordinal values must be in order *as strings* from smallest to largest, e.g.:\n",
    "# ordinal_values=[\"G\", \"PG\", \"PG-13\", \"R\"]\n",
    "ordinal_values =[\"Low\", \"Medium\", \"High\"] \n",
    "\n",
    "result, pred_labels, orig_testY = run2(trainingFile, devFile, testFile, ordinal_values)\n",
    "\n",
    "print(result)"
   ]
  },
  {
   "cell_type": "markdown",
   "metadata": {
    "id": "bQsuVpvBnPQ4"
   },
   "source": [
    "# Part B: Analysis #"
   ]
  },
  {
   "cell_type": "markdown",
   "metadata": {},
   "source": [
    "## Part 0: Introduction and Overview"
   ]
  },
  {
   "cell_type": "markdown",
   "metadata": {},
   "source": [
    "In our Annotation Project, our goal was to classify whether various reddit posts had Low, Medium, or High contentiousness. The definiton of contentiousness is \"likely to cause disagreement or argument\". Thus, we wanted to identify whether the reddit posts were likely to cause disagreement or not. In our case, we decided to use the Ordinal Regression Classifier as we believed that the \"Low\", \"Medium\", and \"High\" contentiousness class categorization was very well suited for this Classifier, as we can consider each class as a ordered label.\n",
    "\n",
    "In our initial base classifier, our accuracy was 0.430, with the 95% confidence interval being [0.333 0.527]. By adding 5 additional features, which were: as swear_featurize (detecting if swear words were used withinin the text), opinionated_featurize (detecting if opinionated words were used within the text), unigram_featurize (utilizing unigrams), afinn_featurize (how positive or negative the text is between -5 and 5), and pos_tagging_featurize (tokenizes the text and labels each word with one of the POS tags), has increased our accuracy to 0.540, with the 95% confidence interval to [0.442 0.638].\n",
    "\n",
    "We have also tinkered around with other possible features such as counting the different punctuations used within the text or the number of \"negative\" words used within the text however, it either caused the accuracy to decrease or stay the same, which led us to remove it from the features that we have aforementioned above."
   ]
  },
  {
   "cell_type": "markdown",
   "metadata": {
    "id": "taLXwci3rtv5"
   },
   "source": [
    "## Part 1: Confusion Matrix - Identifying the mistaken labels"
   ]
  },
  {
   "cell_type": "code",
   "execution_count": 23,
   "metadata": {},
   "outputs": [],
   "source": [
    "#Creating the confusion matrix function.\n",
    "\n",
    "from sklearn.metrics import confusion_matrix, ConfusionMatrixDisplay\n",
    "import matplotlib.pyplot as plt\n",
    "\n",
    "def confusion_matrix_func(y_val, y_pred):\n",
    "    fig, ax = plt.subplots(figsize = (6,6))\n",
    "\n",
    "    cm = confusion_matrix(y_val, y_pred)\n",
    "    display_labels = [\"Low\", \"Medium\", \"High\"]\n",
    "    cm_final = ConfusionMatrixDisplay(confusion_matrix=cm, display_labels=display_labels)\n",
    "    cm_final.plot(ax=ax, xticks_rotation=\"vertical\", values_format=\"d\")\n",
    "    plt.title(\"Confusion Matrix\")\n",
    "\n",
    "    plt.show()\n",
    "\n",
    "#Remapping the values to the labels that we have used.\n",
    "mapping_list = {1: \"Low\", 2: \"Medium\", 3: \"High\"}\n",
    "y_pred_labels = [mapping_list[x] for x in pred_labels]"
   ]
  },
  {
   "cell_type": "code",
   "execution_count": 24,
   "metadata": {},
   "outputs": [
    {
     "data": {
      "image/png": "[encoded data removed]",
      "text/plain": [
       "<Figure size 600x600 with 2 Axes>"
      ]
     },
     "metadata": {},
     "output_type": "display_data"
    }
   ],
   "source": [
    "confusion_matrix_func(y_pred_labels, orig_testY)"
   ]
  },
  {
   "cell_type": "markdown",
   "metadata": {},
   "source": [
    "Some Basic Calculations:\n",
    "\n",
    "For Low: Precision = 0.75 (9/12), Recall = 0.30 (9/30), F1 = 0.4286 (2 * (0.75 * 0.30) / (0.75 + 0.30))\n",
    "\n",
    "For Medium: Precision = 0.4783 (11/23), Recall = 0.3929 (11/28), F1 = 0.4783 (2 * (0.4783 * 0.3929) / (0.4383 + 0.3929))\n",
    "\n",
    "For High: Precision = 0.5231 (34/65), Recall = 0.8095 (34/42), F1 = 0.6355 (2 * (0.5231 * 0.8095) / (0.5231 + 0.8095))"
   ]
  },
  {
   "cell_type": "markdown",
   "metadata": {},
   "source": [
    "We have plotted the confusion matrix, which compares each class' actual and predicted test results. Additionally, we have calculated the Precision, Recall, and F1 score for each class. \n",
    "\n",
    "Some initial observations from the calculations:\n",
    "- Precision is highest in the Low class. In contrast however, the Low class had the lowest Recall.\n",
    "- The Medium class had the lowest Precision and 2nd highest/lowest Recall.\n",
    "- The High class had the second highest/lowest Precision and the highest Recall.\n",
    "- Although the Low class had the highest Precision, because of very low recall, it resulted in the lowest F1 score.\n",
    "- The Medium class had the second highest F1 score however, not by much compared to the Low class.\n",
    "- The High class had the highest F1 score. Though it had the lowest Precision, the Precision was not as low compared to the Low and Medium class' Precision, as well as a high Recall. which resulted in the high F1 score.\n",
    "\n",
    "Based on the confusion matrix above, the Low class seems to be having the hardest time being identified. There were only 12 posts in the dataset that was tested on however, there were 30 posts that were identified as Low class, nearly triple the amount. And although the precision is high, the recall is extremely low. The consequence of such low recall can be seen as a consequence in the F1 score. The Low classs was mistaken by the Medium and High class - specifically the High class posts with 14 posts. \n",
    "\n",
    "For the Medium class, although the Recall was very low, as well as the F1 score being closer to the one in the Low class, we can also conclude that it also does have a difficult time trying to identify whether it is a Medium class post, or a High class Post. Surprisingly, it did not predict any Low class posts, which is likely why the F1 score is higher.\n",
    "\n",
    "The most success comes from the High class posts. Though the amount of actual High posts were nearly double the amount as predicted however, within the predicted number of High posts, it was able to get most of them correct, which is reflected on the high recall score as well as the F1 score."
   ]
  },
  {
   "cell_type": "markdown",
   "metadata": {},
   "source": [
    "## Part 2: Which feature had the biggest impact on accuracy?"
   ]
  },
  {
   "cell_type": "code",
   "execution_count": 25,
   "metadata": {},
   "outputs": [],
   "source": [
    "#Testing the different features to see which one feature is the most impactful, where the feature_1 being the default.\n",
    "\n",
    "def feature_1(text):\n",
    "    all_feats={}\n",
    "    for feature in [binary_bow_featurize]:\n",
    "        all_feats.update(feature(text))\n",
    "    return all_feats\n",
    "\n",
    "def feature_2(text):\n",
    "    all_feats={}\n",
    "    for feature in [swear_featurize]:\n",
    "        all_feats.update(feature(text))\n",
    "    return all_feats\n",
    "\n",
    "def feature_3(text):\n",
    "    all_feats={}\n",
    "    for feature in [opinionated_featurize]:\n",
    "        all_feats.update(feature(text))\n",
    "    return all_feats\n",
    "\n",
    "def feature_4(text):\n",
    "    all_feats={}\n",
    "    for feature in [unigram_featurize]:\n",
    "        all_feats.update(feature(text))\n",
    "    return all_feats\n",
    "\n",
    "def feature_5(text):\n",
    "    all_feats={}\n",
    "    for feature in [afinn_featurize]:\n",
    "        all_feats.update(feature(text))\n",
    "    return all_feats\n",
    "\n",
    "def feature_6(text):\n",
    "    all_feats={}\n",
    "    for feature in [pos_tagging_featurize]:\n",
    "        all_feats.update(feature(text))\n",
    "    return all_feats"
   ]
  },
  {
   "cell_type": "code",
   "execution_count": 26,
   "metadata": {},
   "outputs": [],
   "source": [
    "#Slightly changing the run function to get each individual feature accuracy.\n",
    "def run3(trainingFile, devFile, testFile, ordinal_values):\n",
    "    trainX, trainY, orig_trainY=load_ordinal_data(trainingFile, ordinal_values)\n",
    "    devX, devY, orig_devY=load_ordinal_data(devFile, ordinal_values)\n",
    "    testX, testY, orig_testY=load_ordinal_data(testFile, ordinal_values)\n",
    "\n",
    "    feature_acc = []\n",
    "\n",
    "    for feature in [feature_1, feature_2, feature_3, feature_4, feature_5, feature_6]:\n",
    "    \n",
    "        final_classifier = OrdinalClassifier(ordinal_values, feature, trainX, trainY, devX, devY, testX, testY, orig_trainY, orig_devY, orig_testY)\n",
    "        final_classifier.train()\n",
    "        accuracy, pred_labels = final_classifier.test()\n",
    "\n",
    "        feature_acc.append(accuracy)\n",
    "\n",
    "    return feature_acc\n",
    "\n",
    "acc_list = run3(trainingFile, devFile, testFile, ordinal_values)"
   ]
  },
  {
   "cell_type": "code",
   "execution_count": 27,
   "metadata": {},
   "outputs": [
    {
     "data": {
      "image/png": "[encoded data removed]",
      "text/plain": [
       "<Figure size 640x480 with 1 Axes>"
      ]
     },
     "metadata": {},
     "output_type": "display_data"
    }
   ],
   "source": [
    "#The visualization\n",
    "fig, ax = plt.subplots()\n",
    "bars = ax.bar([\"Feature 1\", \"Feature 2\", \"Feature 3\", \"Feature 4\", \"Feature 5\", \"Feature 6\"], acc_list);\n",
    "\n",
    "ax.bar_label(bars);"
   ]
  },
  {
   "cell_type": "markdown",
   "metadata": {},
   "source": [
    "From the 6 Features we used (with Feature 1 being the base feature binary_bow_featurize), we can see that the model's accuracy increased the most when only using feature 6, which is the pos_tagging_featurize feature. This feature tokenizes the text and labels each word with one of the POS tags (i.e. NN, MD, VBZ) which provides more context for each word, and then tallys up how much of each tag was used for the text and then add it as a feature. The accuracy went up from the base 0.43 that we have observed to 0.48. We believe our pos_tagging feature was the most impactful feature because it helped contextualize the text by tokenizing the text and labeling each word with the different part of speech tags such as NNS, VBP, etc, and helped the model to better understand the meaning conveyed in the text. Additionally, we believed it helped the model understand the relationship words had to the sentences, which helps to better its classification of the texts' contentiousness. As a result, by extracting a more rich representation of the meaning of the text, the model was able to improve its accuracy. We were surprised that features such as Feature 2 and 3, which are the swear_featurize (swear words) and the opinionated_featurize (opinionated words) respectively, did not increase the accuracy, rather, decreased it. We believed that these features would increase the accuracy as our belief of these words were used in a more stronger context, which would lead to high contentiousness. However, with the result, we also could see the different perspective that not all opinions are high in contentiousness as well as swear words, which could be used in lower contentiousness contexts, thus why the accuracy decreased."
   ]
  },
  {
   "cell_type": "markdown",
   "metadata": {},
   "source": [
    "# Conclusion - Imbalanced dataset and possible solutions"
   ]
  },
  {
   "cell_type": "markdown",
   "metadata": {},
   "source": [
    "Looking back at AP2, our second part of this project where we annotated whether or not the reddit posts were Low, Medium, or High in contentiousness, we were labeling the posts without much thought into the balance of the labels (the balance of number of posts in each category). Ideally, we would have 166/167 Low, Medium, and High reddit posts, so that during the training process, we would have a more balanced model and likely a better result and accuracy. However, we are confident that we have labeled many posts as medium contentiousness, as sometimes it was hard to differentiate between the 3 class categories. Thus a possible solution would be adding 1 or 2 more categories, such as \"Somewhat Low\" and \"Somewhat High\", or even \"Very Low\" and \"Very High\" could have been a good idea. We agreed that it was probably not the best option looking back to label uncertain posts as Medium contentiousness, although it was the best option during that time. Additionally, with 3 people labeling the data, there are definitely going to be differences in how we percieve each text, although we have made our own guidelines and have read through it multiple times in order to be consistent. \n",
    "\n",
    "Further more, in order to enhance the model's performance, we could have sourced the reddit posts from more subreddits. Although we have extracted posts from 6 different subreddits, each subreddit likely has a very similar style of text or contentiousness content. By increasing the variety of subreddits, the model could potentially have a better accuracy, as well as more evenly spread out posts within the 3 class categories. \n",
    "\n",
    "In conclusion, contentiousness is difficult to measure. Although we believe we have done our best, there are many different interpretation between many different people. However, we believe that our model and analysis can be a first step for such a topic."
   ]
  },
  {
   "cell_type": "code",
   "execution_count": null,
   "metadata": {},
   "outputs": [],
   "source": []
  }
 ],
 "metadata": {
  "colab": {
   "provenance": []
  },
  "kernelspec": {
   "display_name": "Python 3 (ipykernel)",
   "language": "python",
   "name": "python3"
  },
  "language_info": {
   "codemirror_mode": {
    "name": "ipython",
    "version": 3
   },
   "file_extension": ".py",
   "mimetype": "text/x-python",
   "name": "python",
   "nbconvert_exporter": "python",
   "pygments_lexer": "ipython3",
   "version": "3.9.15"
  }
 },
 "nbformat": 4,
 "nbformat_minor": 4
}
